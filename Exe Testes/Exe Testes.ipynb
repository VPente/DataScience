{
 "cells": [
  {
   "cell_type": "code",
   "execution_count": 1,
   "id": "4e24de89",
   "metadata": {},
   "outputs": [],
   "source": [
    "from scipy import stats\n",
    "import numpy as np\n",
    "import pandas as pd"
   ]
  },
  {
   "cell_type": "code",
   "execution_count": 2,
   "id": "dc961639",
   "metadata": {},
   "outputs": [
    {
     "data": {
      "text/html": [
       "<div>\n",
       "<style scoped>\n",
       "    .dataframe tbody tr th:only-of-type {\n",
       "        vertical-align: middle;\n",
       "    }\n",
       "\n",
       "    .dataframe tbody tr th {\n",
       "        vertical-align: top;\n",
       "    }\n",
       "\n",
       "    .dataframe thead th {\n",
       "        text-align: right;\n",
       "    }\n",
       "</style>\n",
       "<table border=\"1\" class=\"dataframe\">\n",
       "  <thead>\n",
       "    <tr style=\"text-align: right;\">\n",
       "      <th></th>\n",
       "      <th>Faturamento</th>\n",
       "      <th>Pontos</th>\n",
       "    </tr>\n",
       "  </thead>\n",
       "  <tbody>\n",
       "    <tr>\n",
       "      <th>0</th>\n",
       "      <td>688.6</td>\n",
       "      <td>80</td>\n",
       "    </tr>\n",
       "    <tr>\n",
       "      <th>1</th>\n",
       "      <td>543.0</td>\n",
       "      <td>72</td>\n",
       "    </tr>\n",
       "    <tr>\n",
       "      <th>2</th>\n",
       "      <td>466.9</td>\n",
       "      <td>44</td>\n",
       "    </tr>\n",
       "    <tr>\n",
       "      <th>3</th>\n",
       "      <td>424.5</td>\n",
       "      <td>63</td>\n",
       "    </tr>\n",
       "    <tr>\n",
       "      <th>4</th>\n",
       "      <td>402.0</td>\n",
       "      <td>66</td>\n",
       "    </tr>\n",
       "  </tbody>\n",
       "</table>\n",
       "</div>"
      ],
      "text/plain": [
       "   Faturamento  Pontos\n",
       "0        688.6      80\n",
       "1        543.0      72\n",
       "2        466.9      44\n",
       "3        424.5      63\n",
       "4        402.0      66"
      ]
     },
     "execution_count": 2,
     "metadata": {},
     "output_type": "execute_result"
    }
   ],
   "source": [
    "dataFrame = pd.read_csv('dataset_correlacao.csv')\n",
    "dataFrame.head()"
   ]
  },
  {
   "cell_type": "code",
   "execution_count": 3,
   "id": "c1336f53",
   "metadata": {},
   "outputs": [
    {
     "name": "stdout",
     "output_type": "stream",
     "text": [
      "20\n"
     ]
    }
   ],
   "source": [
    "print(len(dataFrame))"
   ]
  },
  {
   "cell_type": "code",
   "execution_count": 4,
   "id": "551d7427",
   "metadata": {},
   "outputs": [
    {
     "data": {
      "text/plain": [
       "KstestResult(statistic=1.0, pvalue=0.0)"
      ]
     },
     "execution_count": 4,
     "metadata": {},
     "output_type": "execute_result"
    }
   ],
   "source": [
    "stats.kstest(dataFrame['Pontos'],'norm')"
   ]
  },
  {
   "cell_type": "code",
   "execution_count": 5,
   "id": "4856ceb5",
   "metadata": {},
   "outputs": [
    {
     "name": "stdout",
     "output_type": "stream",
     "text": [
      "É uma distribuição normal\n"
     ]
    }
   ],
   "source": [
    "statistic, pvalue = stats.kstest(dataFrame['Pontos'],'norm')\n",
    "if pvalue> 0.29407:\n",
    "    print('Não é uma disttribuição')\n",
    "else:\n",
    "    print('É uma distribuição normal')"
   ]
  },
  {
   "cell_type": "markdown",
   "id": "2725adb6",
   "metadata": {},
   "source": [
    "# SW\n"
   ]
  },
  {
   "cell_type": "code",
   "execution_count": 7,
   "id": "2baa9892",
   "metadata": {},
   "outputs": [
    {
     "name": "stdout",
     "output_type": "stream",
     "text": [
      "ShapiroResult(statistic=0.9667134284973145, pvalue=0.6845294833183289)\n",
      "Distribuição Normal\n"
     ]
    }
   ],
   "source": [
    "print(stats.shapiro(dataFrame['Pontos']))\n",
    "if stats.shapiro(dataFrame['Pontos'])[1]> 0.05:\n",
    "    print('Distribuição Normal')\n",
    "else:\n",
    "    print('Não é uma Distribuição Normal')"
   ]
  },
  {
   "cell_type": "code",
   "execution_count": 10,
   "id": "14c223ce",
   "metadata": {},
   "outputs": [
    {
     "data": {
      "text/html": [
       "<div>\n",
       "<style scoped>\n",
       "    .dataframe tbody tr th:only-of-type {\n",
       "        vertical-align: middle;\n",
       "    }\n",
       "\n",
       "    .dataframe tbody tr th {\n",
       "        vertical-align: top;\n",
       "    }\n",
       "\n",
       "    .dataframe thead th {\n",
       "        text-align: right;\n",
       "    }\n",
       "</style>\n",
       "<table border=\"1\" class=\"dataframe\">\n",
       "  <thead>\n",
       "    <tr style=\"text-align: right;\">\n",
       "      <th></th>\n",
       "      <th>team</th>\n",
       "      <th>pos.</th>\n",
       "      <th>wins</th>\n",
       "      <th>losses</th>\n",
       "      <th>draws</th>\n",
       "      <th>pts</th>\n",
       "      <th>goals</th>\n",
       "      <th>total_pass</th>\n",
       "      <th>season</th>\n",
       "    </tr>\n",
       "  </thead>\n",
       "  <tbody>\n",
       "    <tr>\n",
       "      <th>0</th>\n",
       "      <td>Manchester United</td>\n",
       "      <td>1</td>\n",
       "      <td>28</td>\n",
       "      <td>5</td>\n",
       "      <td>5</td>\n",
       "      <td>89</td>\n",
       "      <td>83</td>\n",
       "      <td>18723</td>\n",
       "      <td>2006-2007</td>\n",
       "    </tr>\n",
       "    <tr>\n",
       "      <th>1</th>\n",
       "      <td>Chelsea</td>\n",
       "      <td>2</td>\n",
       "      <td>24</td>\n",
       "      <td>3</td>\n",
       "      <td>11</td>\n",
       "      <td>83</td>\n",
       "      <td>64</td>\n",
       "      <td>16759</td>\n",
       "      <td>2006-2007</td>\n",
       "    </tr>\n",
       "    <tr>\n",
       "      <th>2</th>\n",
       "      <td>Liverpool</td>\n",
       "      <td>3</td>\n",
       "      <td>20</td>\n",
       "      <td>10</td>\n",
       "      <td>8</td>\n",
       "      <td>68</td>\n",
       "      <td>57</td>\n",
       "      <td>17154</td>\n",
       "      <td>2006-2007</td>\n",
       "    </tr>\n",
       "    <tr>\n",
       "      <th>3</th>\n",
       "      <td>Arsenal</td>\n",
       "      <td>4</td>\n",
       "      <td>19</td>\n",
       "      <td>8</td>\n",
       "      <td>11</td>\n",
       "      <td>68</td>\n",
       "      <td>63</td>\n",
       "      <td>18458</td>\n",
       "      <td>2006-2007</td>\n",
       "    </tr>\n",
       "    <tr>\n",
       "      <th>4</th>\n",
       "      <td>Tottenham Hotspur</td>\n",
       "      <td>5</td>\n",
       "      <td>17</td>\n",
       "      <td>12</td>\n",
       "      <td>9</td>\n",
       "      <td>60</td>\n",
       "      <td>57</td>\n",
       "      <td>14914</td>\n",
       "      <td>2006-2007</td>\n",
       "    </tr>\n",
       "  </tbody>\n",
       "</table>\n",
       "</div>"
      ],
      "text/plain": [
       "                team  pos.  wins  losses  draws  pts  goals  total_pass  \\\n",
       "0  Manchester United     1    28       5      5   89     83       18723   \n",
       "1            Chelsea     2    24       3     11   83     64       16759   \n",
       "2          Liverpool     3    20      10      8   68     57       17154   \n",
       "3            Arsenal     4    19       8     11   68     63       18458   \n",
       "4  Tottenham Hotspur     5    17      12      9   60     57       14914   \n",
       "\n",
       "      season  \n",
       "0  2006-2007  \n",
       "1  2006-2007  \n",
       "2  2006-2007  \n",
       "3  2006-2007  \n",
       "4  2006-2007  "
      ]
     },
     "execution_count": 10,
     "metadata": {},
     "output_type": "execute_result"
    }
   ],
   "source": [
    "dataFrame = pd.read_csv('premier_league.csv')\n",
    "dataFrame.head()"
   ]
  },
  {
   "cell_type": "code",
   "execution_count": 11,
   "id": "0271dc05",
   "metadata": {},
   "outputs": [
    {
     "data": {
      "text/plain": [
       "count     60.000000\n",
       "mean      76.600000\n",
       "std        9.158121\n",
       "min       58.000000\n",
       "25%       70.000000\n",
       "50%       75.500000\n",
       "75%       84.250000\n",
       "max      100.000000\n",
       "Name: pts, dtype: float64"
      ]
     },
     "execution_count": 11,
     "metadata": {},
     "output_type": "execute_result"
    }
   ],
   "source": [
    "dataFrame['pts'].describe()"
   ]
  },
  {
   "cell_type": "code",
   "execution_count": 13,
   "id": "643f9948",
   "metadata": {},
   "outputs": [
    {
     "name": "stderr",
     "output_type": "stream",
     "text": [
      "C:\\Users\\vitor.50220\\AppData\\Local\\Temp\\ipykernel_13324\\3902405387.py:1: SettingWithCopyWarning: \n",
      "A value is trying to be set on a copy of a slice from a DataFrame\n",
      "\n",
      "See the caveats in the documentation: https://pandas.pydata.org/pandas-docs/stable/user_guide/indexing.html#returning-a-view-versus-a-copy\n",
      "  dataFrame['pts'][dataFrame['pts'] == 58]= 120\n"
     ]
    }
   ],
   "source": [
    "dataFrame['pts'][dataFrame['pts'] == 58]= 120"
   ]
  },
  {
   "cell_type": "code",
   "execution_count": 14,
   "id": "2e6996a1",
   "metadata": {},
   "outputs": [
    {
     "data": {
      "text/plain": [
       "count     60.000000\n",
       "mean      77.633333\n",
       "std       10.432944\n",
       "min       60.000000\n",
       "25%       70.000000\n",
       "50%       76.000000\n",
       "75%       85.000000\n",
       "max      120.000000\n",
       "Name: pts, dtype: float64"
      ]
     },
     "execution_count": 14,
     "metadata": {},
     "output_type": "execute_result"
    }
   ],
   "source": [
    "dataFrame['pts'].describe()"
   ]
  },
  {
   "cell_type": "code",
   "execution_count": 15,
   "id": "6453d1d7",
   "metadata": {},
   "outputs": [
    {
     "name": "stderr",
     "output_type": "stream",
     "text": [
      "C:\\Users\\vitor.50220\\AppData\\Local\\Temp\\ipykernel_13324\\1914931524.py:1: SettingWithCopyWarning: \n",
      "A value is trying to be set on a copy of a slice from a DataFrame\n",
      "\n",
      "See the caveats in the documentation: https://pandas.pydata.org/pandas-docs/stable/user_guide/indexing.html#returning-a-view-versus-a-copy\n",
      "  dataFrame['pts'][dataFrame['pts']>107.5]= 107.5\n"
     ]
    }
   ],
   "source": [
    "dataFrame['pts'][dataFrame['pts']>107.5]= 107.5"
   ]
  },
  {
   "cell_type": "code",
   "execution_count": 17,
   "id": "2a8c2d0e",
   "metadata": {},
   "outputs": [
    {
     "data": {
      "text/plain": [
       "count     60.000000\n",
       "mean      77.425000\n",
       "std        9.669463\n",
       "min       60.000000\n",
       "25%       70.000000\n",
       "50%       76.000000\n",
       "75%       85.000000\n",
       "max      107.500000\n",
       "Name: pts, dtype: float64"
      ]
     },
     "execution_count": 17,
     "metadata": {},
     "output_type": "execute_result"
    }
   ],
   "source": [
    "dataFrame['pts'].describe()"
   ]
  },
  {
   "cell_type": "code",
   "execution_count": 18,
   "id": "595b5baf",
   "metadata": {},
   "outputs": [],
   "source": [
    "dataFrame['pts'][dataFrame['pts']<47.5]= 47.5"
   ]
  },
  {
   "cell_type": "markdown",
   "id": "6d989b1c",
   "metadata": {},
   "source": [
    "### Box-cox"
   ]
  },
  {
   "cell_type": "code",
   "execution_count": 22,
   "id": "7029d81c",
   "metadata": {},
   "outputs": [],
   "source": [
    "ponto_novo, lambda_boxcox = stats.boxcox(dataFrame['pts'])"
   ]
  },
  {
   "cell_type": "code",
   "execution_count": 23,
   "id": "b4f5837c",
   "metadata": {},
   "outputs": [
    {
     "data": {
      "text/plain": [
       "array([1.26976964, 1.26742297, 1.25999132, 1.25999132, 1.25471408,\n",
       "       1.26901913, 1.26823759, 1.26742297, 1.26427679, 1.25814664,\n",
       "       1.27013386, 1.26863236, 1.26742297, 1.26223893, 1.2561456 ,\n",
       "       1.26863236, 1.26823759, 1.2637853 , 1.26114341, 1.25683125,\n",
       "       1.26613403, 1.26169797, 1.26169797, 1.25999132, 1.27552787,\n",
       "       1.26976964, 1.26976964, 1.26114341, 1.26057472, 1.25814664,\n",
       "       1.26976964, 1.26522639, 1.2637853 , 1.26276682, 1.26223893,\n",
       "       1.26863236, 1.26783455, 1.26700256, 1.26568527, 1.26223893,\n",
       "       1.26901913, 1.26568527, 1.2637853 , 1.26114341, 1.257498  ,\n",
       "       1.26657302, 1.26169797, 1.25877794, 1.25877794, 1.26114341,\n",
       "       1.27118499, 1.26863236, 1.2637853 , 1.26522639, 1.26427679,\n",
       "       1.27342007, 1.26657302, 1.26475702, 1.26114341, 1.2637853 ])"
      ]
     },
     "execution_count": 23,
     "metadata": {},
     "output_type": "execute_result"
    }
   ],
   "source": [
    "ponto_novo"
   ]
  },
  {
   "cell_type": "code",
   "execution_count": 24,
   "id": "e48c7eb9",
   "metadata": {},
   "outputs": [
    {
     "name": "stdout",
     "output_type": "stream",
     "text": [
      "ShapiroResult(statistic=0.9853790402412415, pvalue=0.6897542476654053)\n"
     ]
    }
   ],
   "source": [
    "print(stats.shapiro(ponto_novo))"
   ]
  },
  {
   "cell_type": "code",
   "execution_count": 25,
   "id": "135d442f",
   "metadata": {},
   "outputs": [
    {
     "name": "stdout",
     "output_type": "stream",
     "text": [
      "ShapiroResult(statistic=0.9676477313041687, pvalue=0.11184413731098175)\n"
     ]
    }
   ],
   "source": [
    "print(stats.shapiro(dataFrame['pts']))"
   ]
  },
  {
   "cell_type": "code",
   "execution_count": 26,
   "id": "53ca2408",
   "metadata": {},
   "outputs": [],
   "source": [
    "from scipy.special import inv_boxcox"
   ]
  },
  {
   "cell_type": "code",
   "execution_count": 27,
   "id": "4af25969",
   "metadata": {},
   "outputs": [],
   "source": [
    "ponto_velho = inv_boxcox(ponto_novo, lambda_boxcox)"
   ]
  },
  {
   "cell_type": "code",
   "execution_count": 29,
   "id": "112493de",
   "metadata": {},
   "outputs": [
    {
     "data": {
      "text/plain": [
       "array([ 89. ,  83. ,  68. ,  68. ,  60. ,  87. ,  85. ,  83. ,  76. ,\n",
       "        65. ,  90. ,  86. ,  83. ,  72. ,  62. ,  86. ,  85. ,  75. ,\n",
       "        70. ,  63. ,  80. ,  71. ,  71. ,  68. , 107.5,  89. ,  89. ,\n",
       "        70. ,  69. ,  65. ,  89. ,  78. ,  75. ,  73. ,  72. ,  86. ,\n",
       "        84. ,  82. ,  79. ,  72. ,  87. ,  79. ,  75. ,  70. ,  64. ,\n",
       "        81. ,  71. ,  66. ,  66. ,  70. ,  93. ,  86. ,  75. ,  78. ,\n",
       "        76. , 100. ,  81. ,  77. ,  70. ,  75. ])"
      ]
     },
     "execution_count": 29,
     "metadata": {},
     "output_type": "execute_result"
    }
   ],
   "source": [
    "ponto_velho"
   ]
  },
  {
   "cell_type": "markdown",
   "id": "f191253d",
   "metadata": {},
   "source": [
    "### box cox-2\n"
   ]
  },
  {
   "cell_type": "code",
   "execution_count": 6,
   "id": "1cb05111",
   "metadata": {},
   "outputs": [],
   "source": [
    "ponto_novo, lambda_boxcox = stats.boxcox(dataFrame['Pontos'])"
   ]
  },
  {
   "cell_type": "code",
   "execution_count": 7,
   "id": "2b626097",
   "metadata": {},
   "outputs": [
    {
     "data": {
      "text/plain": [
       "array([28.54691059, 26.43765262, 18.3840581 , 23.97621215, 24.80803849,\n",
       "       21.10995435, 18.69489133, 25.62830077, 18.07104212, 22.84785505,\n",
       "       20.21842339, 22.27487863, 20.51738474, 19.61491134, 17.75577677,\n",
       "       11.21149601, 16.14310198, 18.3840581 , 17.11821268, 18.3840581 ])"
      ]
     },
     "execution_count": 7,
     "metadata": {},
     "output_type": "execute_result"
    }
   ],
   "source": [
    "ponto_novo"
   ]
  },
  {
   "cell_type": "code",
   "execution_count": 14,
   "id": "35686865",
   "metadata": {},
   "outputs": [
    {
     "name": "stdout",
     "output_type": "stream",
     "text": [
      "ShapiroResult(statistic=0.9685488939285278, pvalue=0.7239810228347778)\n"
     ]
    }
   ],
   "source": [
    "print(stats.shapiro(ponto_novo))"
   ]
  },
  {
   "cell_type": "code",
   "execution_count": 10,
   "id": "28d6aad5",
   "metadata": {},
   "outputs": [
    {
     "name": "stdout",
     "output_type": "stream",
     "text": [
      "ShapiroResult(statistic=0.9667134284973145, pvalue=0.6845294833183289)\n"
     ]
    }
   ],
   "source": [
    "print(stats.shapiro(dataFrame['Pontos']))"
   ]
  },
  {
   "cell_type": "code",
   "execution_count": 9,
   "id": "77408fc3",
   "metadata": {},
   "outputs": [],
   "source": [
    "from scipy.special import inv_boxcox"
   ]
  },
  {
   "cell_type": "code",
   "execution_count": 11,
   "id": "eacd7cbb",
   "metadata": {},
   "outputs": [],
   "source": [
    "ponto_velho = inv_boxcox(ponto_novo, lambda_boxcox)"
   ]
  },
  {
   "cell_type": "code",
   "execution_count": 12,
   "id": "760e2ae8",
   "metadata": {},
   "outputs": [
    {
     "data": {
      "text/plain": [
       "array([80., 72., 44., 63., 66., 53., 45., 69., 43., 59., 50., 57., 51.,\n",
       "       48., 42., 23., 37., 44., 40., 44.])"
      ]
     },
     "execution_count": 12,
     "metadata": {},
     "output_type": "execute_result"
    }
   ],
   "source": [
    "ponto_velho"
   ]
  },
  {
   "cell_type": "code",
   "execution_count": null,
   "id": "92293947",
   "metadata": {},
   "outputs": [],
   "source": []
  }
 ],
 "metadata": {
  "kernelspec": {
   "display_name": "Python 3 (ipykernel)",
   "language": "python",
   "name": "python3"
  },
  "language_info": {
   "codemirror_mode": {
    "name": "ipython",
    "version": 3
   },
   "file_extension": ".py",
   "mimetype": "text/x-python",
   "name": "python",
   "nbconvert_exporter": "python",
   "pygments_lexer": "ipython3",
   "version": "3.9.12"
  }
 },
 "nbformat": 4,
 "nbformat_minor": 5
}

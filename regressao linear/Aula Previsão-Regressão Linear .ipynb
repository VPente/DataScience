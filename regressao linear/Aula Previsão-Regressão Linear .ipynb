{
 "cells": [
  {
   "cell_type": "code",
   "execution_count": 2,
   "id": "eca977da",
   "metadata": {},
   "outputs": [
    {
     "name": "stderr",
     "output_type": "stream",
     "text": [
      "Matplotlib is building the font cache; this may take a moment.\n"
     ]
    }
   ],
   "source": [
    "import numpy as np\n",
    "import pandas as pd\n",
    "import statsmodels.api as sm\n",
    "import matplotlib.pyplot as plt"
   ]
  },
  {
   "cell_type": "code",
   "execution_count": 17,
   "id": "12bae0ac",
   "metadata": {},
   "outputs": [],
   "source": [
    "tempo = np.array([ 10, 13,14, 20, 11, 21, 21, 30, 16, 29])\n",
    "calorias = np.array([ 215, 260, 275, 365, 230, 380, 520, 500, 350, 400])"
   ]
  },
  {
   "cell_type": "code",
   "execution_count": 20,
   "id": "70f1b5c5",
   "metadata": {
    "scrolled": true
   },
   "outputs": [
    {
     "data": {
      "text/plain": [
       "<function matplotlib.pyplot.show(close=None, block=None)>"
      ]
     },
     "execution_count": 20,
     "metadata": {},
     "output_type": "execute_result"
    },
    {
     "data": {
      "image/png": "[encoded data removed]",
      "text/plain": [
       "<Figure size 432x288 with 1 Axes>"
      ]
     },
     "metadata": {
      "needs_background": "light"
     },
     "output_type": "display_data"
    }
   ],
   "source": [
    "plt.scatter(tempo,calorias)\n",
    "plt.title(\"Gráfico de dispersão\")\n",
    "plt.show"
   ]
  },
  {
   "cell_type": "code",
   "execution_count": 21,
   "id": "31b9243b",
   "metadata": {},
   "outputs": [],
   "source": [
    "tempo_constante = sm.add_constant(tempo)"
   ]
  },
  {
   "cell_type": "code",
   "execution_count": 22,
   "id": "c0f019b4",
   "metadata": {},
   "outputs": [
    {
     "name": "stderr",
     "output_type": "stream",
     "text": [
      "C:\\ProgramData\\Anaconda3\\lib\\site-packages\\scipy\\stats\\stats.py:1541: UserWarning: kurtosistest only valid for n>=20 ... continuing anyway, n=10\n",
      "  warnings.warn(\"kurtosistest only valid for n>=20 ... continuing \"\n"
     ]
    },
    {
     "data": {
      "text/html": [
       "<table class=\"simpletable\">\n",
       "<caption>OLS Regression Results</caption>\n",
       "<tr>\n",
       "  <th>Dep. Variable:</th>            <td>y</td>        <th>  R-squared:         </th> <td>   0.712</td>\n",
       "</tr>\n",
       "<tr>\n",
       "  <th>Model:</th>                   <td>OLS</td>       <th>  Adj. R-squared:    </th> <td>   0.676</td>\n",
       "</tr>\n",
       "<tr>\n",
       "  <th>Method:</th>             <td>Least Squares</td>  <th>  F-statistic:       </th> <td>   19.80</td>\n",
       "</tr>\n",
       "<tr>\n",
       "  <th>Date:</th>             <td>Wed, 23 Mar 2022</td> <th>  Prob (F-statistic):</th>  <td>0.00214</td>\n",
       "</tr>\n",
       "<tr>\n",
       "  <th>Time:</th>                 <td>20:35:27</td>     <th>  Log-Likelihood:    </th> <td> -54.080</td>\n",
       "</tr>\n",
       "<tr>\n",
       "  <th>No. Observations:</th>      <td>    10</td>      <th>  AIC:               </th> <td>   112.2</td>\n",
       "</tr>\n",
       "<tr>\n",
       "  <th>Df Residuals:</th>          <td>     8</td>      <th>  BIC:               </th> <td>   112.8</td>\n",
       "</tr>\n",
       "<tr>\n",
       "  <th>Df Model:</th>              <td>     1</td>      <th>                     </th>     <td> </td>   \n",
       "</tr>\n",
       "<tr>\n",
       "  <th>Covariance Type:</th>      <td>nonrobust</td>    <th>                     </th>     <td> </td>   \n",
       "</tr>\n",
       "</table>\n",
       "<table class=\"simpletable\">\n",
       "<tr>\n",
       "    <td></td>       <th>coef</th>     <th>std err</th>      <th>t</th>      <th>P>|t|</th>  <th>[0.025</th>    <th>0.975]</th>  \n",
       "</tr>\n",
       "<tr>\n",
       "  <th>const</th> <td>  113.1808</td> <td>   56.432</td> <td>    2.006</td> <td> 0.080</td> <td>  -16.951</td> <td>  243.312</td>\n",
       "</tr>\n",
       "<tr>\n",
       "  <th>x1</th>    <td>   12.7740</td> <td>    2.870</td> <td>    4.450</td> <td> 0.002</td> <td>    6.155</td> <td>   19.393</td>\n",
       "</tr>\n",
       "</table>\n",
       "<table class=\"simpletable\">\n",
       "<tr>\n",
       "  <th>Omnibus:</th>       <td>10.368</td> <th>  Durbin-Watson:     </th> <td>   1.825</td>\n",
       "</tr>\n",
       "<tr>\n",
       "  <th>Prob(Omnibus):</th> <td> 0.006</td> <th>  Jarque-Bera (JB):  </th> <td>   4.426</td>\n",
       "</tr>\n",
       "<tr>\n",
       "  <th>Skew:</th>          <td> 1.312</td> <th>  Prob(JB):          </th> <td>   0.109</td>\n",
       "</tr>\n",
       "<tr>\n",
       "  <th>Kurtosis:</th>      <td> 4.933</td> <th>  Cond. No.          </th> <td>    58.2</td>\n",
       "</tr>\n",
       "</table><br/><br/>Notes:<br/>[1] Standard Errors assume that the covariance matrix of the errors is correctly specified."
      ],
      "text/plain": [
       "<class 'statsmodels.iolib.summary.Summary'>\n",
       "\"\"\"\n",
       "                            OLS Regression Results                            \n",
       "==============================================================================\n",
       "Dep. Variable:                      y   R-squared:                       0.712\n",
       "Model:                            OLS   Adj. R-squared:                  0.676\n",
       "Method:                 Least Squares   F-statistic:                     19.80\n",
       "Date:                Wed, 23 Mar 2022   Prob (F-statistic):            0.00214\n",
       "Time:                        20:35:27   Log-Likelihood:                -54.080\n",
       "No. Observations:                  10   AIC:                             112.2\n",
       "Df Residuals:                       8   BIC:                             112.8\n",
       "Df Model:                           1                                         \n",
       "Covariance Type:            nonrobust                                         \n",
       "==============================================================================\n",
       "                 coef    std err          t      P>|t|      [0.025      0.975]\n",
       "------------------------------------------------------------------------------\n",
       "const        113.1808     56.432      2.006      0.080     -16.951     243.312\n",
       "x1            12.7740      2.870      4.450      0.002       6.155      19.393\n",
       "==============================================================================\n",
       "Omnibus:                       10.368   Durbin-Watson:                   1.825\n",
       "Prob(Omnibus):                  0.006   Jarque-Bera (JB):                4.426\n",
       "Skew:                           1.312   Prob(JB):                        0.109\n",
       "Kurtosis:                       4.933   Cond. No.                         58.2\n",
       "==============================================================================\n",
       "\n",
       "Notes:\n",
       "[1] Standard Errors assume that the covariance matrix of the errors is correctly specified.\n",
       "\"\"\""
      ]
     },
     "execution_count": 22,
     "metadata": {},
     "output_type": "execute_result"
    }
   ],
   "source": [
    "resultado = sm.OLS(calorias, tempo_constante).fit()\n",
    "resultado.summary()"
   ]
  },
  {
   "cell_type": "code",
   "execution_count": 23,
   "id": "cf3a13a1",
   "metadata": {},
   "outputs": [
    {
     "name": "stdout",
     "output_type": "stream",
     "text": [
      "O resultado da minha regressão é:  113.18 + 12.77 X, onde X é o tempo gasto\n"
     ]
    }
   ],
   "source": [
    "constante, peso = resultado.params\n",
    "print(\"O resultado da minha regressão é: \", round(constante,2),\"+\", round(peso,2),\"X, onde X é o tempo gasto\")"
   ]
  },
  {
   "cell_type": "code",
   "execution_count": 16,
   "id": "55b46112",
   "metadata": {},
   "outputs": [
    {
     "data": {
      "text/plain": [
       "array([320., 695., 425.])"
      ]
     },
     "execution_count": 16,
     "metadata": {},
     "output_type": "execute_result"
    }
   ],
   "source": [
    "tempoDois= np.array([17, 42, 24])\n",
    "tempoDois = sm.add_constant(tempoDois)\n",
    "resultado.predict(tempoDois)"
   ]
  },
  {
   "cell_type": "code",
   "execution_count": null,
   "id": "5396234d",
   "metadata": {},
   "outputs": [],
   "source": [
    "#REGRESSÃO LINEAR MULTIPLA"
   ]
  },
  {
   "cell_type": "code",
   "execution_count": 26,
   "id": "e9742cf6",
   "metadata": {},
   "outputs": [],
   "source": [
    "media= np.array([11.7, 12.5, 13])\n",
    "distancia = np.array([65, 72, 69])\n",
    "semaforos = np.array([5,1,0])"
   ]
  },
  {
   "cell_type": "code",
   "execution_count": 27,
   "id": "cdf91827",
   "metadata": {},
   "outputs": [],
   "source": [
    "explicativas = np.column_stack((distancia, semaforos))\n",
    "explicativas_constante = sm.add_constant(explicativas)"
   ]
  },
  {
   "cell_type": "code",
   "execution_count": 28,
   "id": "cd8d30bf",
   "metadata": {},
   "outputs": [
    {
     "data": {
      "text/plain": [
       "array([[65,  5],\n",
       "       [72,  1],\n",
       "       [69,  0]])"
      ]
     },
     "execution_count": 28,
     "metadata": {},
     "output_type": "execute_result"
    }
   ],
   "source": [
    "explicativas"
   ]
  },
  {
   "cell_type": "code",
   "execution_count": 29,
   "id": "877d97d6",
   "metadata": {},
   "outputs": [],
   "source": [
    "resultado_novo = sm.OLS(media, explicativas_constante).fit()"
   ]
  },
  {
   "cell_type": "code",
   "execution_count": 30,
   "id": "622e58f0",
   "metadata": {},
   "outputs": [
    {
     "name": "stderr",
     "output_type": "stream",
     "text": [
      "C:\\ProgramData\\Anaconda3\\lib\\site-packages\\statsmodels\\stats\\stattools.py:74: ValueWarning: omni_normtest is not valid with less than 8 observations; 3 samples were given.\n",
      "  warn(\"omni_normtest is not valid with less than 8 observations; %i \"\n",
      "C:\\ProgramData\\Anaconda3\\lib\\site-packages\\statsmodels\\regression\\linear_model.py:1728: RuntimeWarning: divide by zero encountered in true_divide\n",
      "  return 1 - (np.divide(self.nobs - self.k_constant, self.df_resid)\n",
      "C:\\ProgramData\\Anaconda3\\lib\\site-packages\\statsmodels\\regression\\linear_model.py:1728: RuntimeWarning: invalid value encountered in double_scalars\n",
      "  return 1 - (np.divide(self.nobs - self.k_constant, self.df_resid)\n",
      "C:\\ProgramData\\Anaconda3\\lib\\site-packages\\statsmodels\\regression\\linear_model.py:1650: RuntimeWarning: divide by zero encountered in double_scalars\n",
      "  return np.dot(wresid, wresid) / self.df_resid\n"
     ]
    },
    {
     "data": {
      "text/html": [
       "<table class=\"simpletable\">\n",
       "<caption>OLS Regression Results</caption>\n",
       "<tr>\n",
       "  <th>Dep. Variable:</th>            <td>y</td>        <th>  R-squared:         </th> <td>   1.000</td>\n",
       "</tr>\n",
       "<tr>\n",
       "  <th>Model:</th>                   <td>OLS</td>       <th>  Adj. R-squared:    </th> <td>     nan</td>\n",
       "</tr>\n",
       "<tr>\n",
       "  <th>Method:</th>             <td>Least Squares</td>  <th>  F-statistic:       </th> <td>     nan</td>\n",
       "</tr>\n",
       "<tr>\n",
       "  <th>Date:</th>             <td>Wed, 23 Mar 2022</td> <th>  Prob (F-statistic):</th>  <td>   nan</td> \n",
       "</tr>\n",
       "<tr>\n",
       "  <th>Time:</th>                 <td>20:52:49</td>     <th>  Log-Likelihood:    </th> <td>  91.652</td>\n",
       "</tr>\n",
       "<tr>\n",
       "  <th>No. Observations:</th>      <td>     3</td>      <th>  AIC:               </th> <td>  -177.3</td>\n",
       "</tr>\n",
       "<tr>\n",
       "  <th>Df Residuals:</th>          <td>     0</td>      <th>  BIC:               </th> <td>  -180.0</td>\n",
       "</tr>\n",
       "<tr>\n",
       "  <th>Df Model:</th>              <td>     2</td>      <th>                     </th>     <td> </td>   \n",
       "</tr>\n",
       "<tr>\n",
       "  <th>Covariance Type:</th>      <td>nonrobust</td>    <th>                     </th>     <td> </td>   \n",
       "</tr>\n",
       "</table>\n",
       "<table class=\"simpletable\">\n",
       "<tr>\n",
       "    <td></td>       <th>coef</th>     <th>std err</th>      <th>t</th>      <th>P>|t|</th>  <th>[0.025</th>    <th>0.975]</th>  \n",
       "</tr>\n",
       "<tr>\n",
       "  <th>const</th> <td>   17.3579</td> <td>      inf</td> <td>        0</td> <td>   nan</td> <td>      nan</td> <td>      nan</td>\n",
       "</tr>\n",
       "<tr>\n",
       "  <th>x1</th>    <td>   -0.0632</td> <td>      inf</td> <td>       -0</td> <td>   nan</td> <td>      nan</td> <td>      nan</td>\n",
       "</tr>\n",
       "<tr>\n",
       "  <th>x2</th>    <td>   -0.3105</td> <td>      inf</td> <td>       -0</td> <td>   nan</td> <td>      nan</td> <td>      nan</td>\n",
       "</tr>\n",
       "</table>\n",
       "<table class=\"simpletable\">\n",
       "<tr>\n",
       "  <th>Omnibus:</th>       <td>   nan</td> <th>  Durbin-Watson:     </th> <td>   0.012</td>\n",
       "</tr>\n",
       "<tr>\n",
       "  <th>Prob(Omnibus):</th> <td>   nan</td> <th>  Jarque-Bera (JB):  </th> <td>   0.531</td>\n",
       "</tr>\n",
       "<tr>\n",
       "  <th>Skew:</th>          <td>-0.707</td> <th>  Prob(JB):          </th> <td>   0.767</td>\n",
       "</tr>\n",
       "<tr>\n",
       "  <th>Kurtosis:</th>      <td> 1.500</td> <th>  Cond. No.          </th> <td>2.88e+03</td>\n",
       "</tr>\n",
       "</table><br/><br/>Notes:<br/>[1] Standard Errors assume that the covariance matrix of the errors is correctly specified.<br/>[2] The condition number is large, 2.88e+03. This might indicate that there are<br/>strong multicollinearity or other numerical problems."
      ],
      "text/plain": [
       "<class 'statsmodels.iolib.summary.Summary'>\n",
       "\"\"\"\n",
       "                            OLS Regression Results                            \n",
       "==============================================================================\n",
       "Dep. Variable:                      y   R-squared:                       1.000\n",
       "Model:                            OLS   Adj. R-squared:                    nan\n",
       "Method:                 Least Squares   F-statistic:                       nan\n",
       "Date:                Wed, 23 Mar 2022   Prob (F-statistic):                nan\n",
       "Time:                        20:52:49   Log-Likelihood:                 91.652\n",
       "No. Observations:                   3   AIC:                            -177.3\n",
       "Df Residuals:                       0   BIC:                            -180.0\n",
       "Df Model:                           2                                         \n",
       "Covariance Type:            nonrobust                                         \n",
       "==============================================================================\n",
       "                 coef    std err          t      P>|t|      [0.025      0.975]\n",
       "------------------------------------------------------------------------------\n",
       "const         17.3579        inf          0        nan         nan         nan\n",
       "x1            -0.0632        inf         -0        nan         nan         nan\n",
       "x2            -0.3105        inf         -0        nan         nan         nan\n",
       "==============================================================================\n",
       "Omnibus:                          nan   Durbin-Watson:                   0.012\n",
       "Prob(Omnibus):                    nan   Jarque-Bera (JB):                0.531\n",
       "Skew:                          -0.707   Prob(JB):                        0.767\n",
       "Kurtosis:                       1.500   Cond. No.                     2.88e+03\n",
       "==============================================================================\n",
       "\n",
       "Notes:\n",
       "[1] Standard Errors assume that the covariance matrix of the errors is correctly specified.\n",
       "[2] The condition number is large, 2.88e+03. This might indicate that there are\n",
       "strong multicollinearity or other numerical problems.\n",
       "\"\"\""
      ]
     },
     "execution_count": 30,
     "metadata": {},
     "output_type": "execute_result"
    }
   ],
   "source": [
    "resultado_novo.summary()"
   ]
  },
  {
   "cell_type": "code",
   "execution_count": 36,
   "id": "5e3c380c",
   "metadata": {},
   "outputs": [
    {
     "data": {
      "text/plain": [
       "array([12.00526316, 14.54210526])"
      ]
     },
     "execution_count": 36,
     "metadata": {},
     "output_type": "execute_result"
    }
   ],
   "source": [
    "distancia = np.array([70, 20])\n",
    "semaforos = np.array([3, 5])\n",
    "explicativas = np.column_stack((distancia, semaforos))\n",
    "explicativas_constante = sm.add_constant(explicativas)\n",
    "resultado_novo.predict(explicativas_constante)"
   ]
  },
  {
   "cell_type": "code",
   "execution_count": 37,
   "id": "5e4fb71f",
   "metadata": {},
   "outputs": [],
   "source": [
    "#exercicio 1\n",
    "minutos = np.array([ 10, 13,14, 20, 11, 21, 21, 7, 7, 10, 14, 20])\n",
    "pontos = np.array([ 26, 28, 22, 35, 6, 15, 10, 4, 15, 12, 21, 30])"
   ]
  },
  {
   "cell_type": "code",
   "execution_count": 38,
   "id": "67f18b4f",
   "metadata": {},
   "outputs": [
    {
     "data": {
      "text/plain": [
       "<function matplotlib.pyplot.show(close=None, block=None)>"
      ]
     },
     "execution_count": 38,
     "metadata": {},
     "output_type": "execute_result"
    },
    {
     "data": {
      "image/png": "[encoded data removed]",
      "text/plain": [
       "<Figure size 432x288 with 1 Axes>"
      ]
     },
     "metadata": {
      "needs_background": "light"
     },
     "output_type": "display_data"
    }
   ],
   "source": [
    "plt.scatter(minutos,pontos)\n",
    "plt.title(\"Gráfico de dispersão\")\n",
    "plt.show"
   ]
  },
  {
   "cell_type": "code",
   "execution_count": 39,
   "id": "34c6c960",
   "metadata": {},
   "outputs": [],
   "source": [
    "minutos_constante = sm.add_constant(minutos)"
   ]
  },
  {
   "cell_type": "code",
   "execution_count": 40,
   "id": "057f4268",
   "metadata": {},
   "outputs": [
    {
     "name": "stderr",
     "output_type": "stream",
     "text": [
      "C:\\ProgramData\\Anaconda3\\lib\\site-packages\\scipy\\stats\\stats.py:1541: UserWarning: kurtosistest only valid for n>=20 ... continuing anyway, n=12\n",
      "  warnings.warn(\"kurtosistest only valid for n>=20 ... continuing \"\n"
     ]
    },
    {
     "data": {
      "text/html": [
       "<table class=\"simpletable\">\n",
       "<caption>OLS Regression Results</caption>\n",
       "<tr>\n",
       "  <th>Dep. Variable:</th>            <td>y</td>        <th>  R-squared:         </th> <td>   0.164</td>\n",
       "</tr>\n",
       "<tr>\n",
       "  <th>Model:</th>                   <td>OLS</td>       <th>  Adj. R-squared:    </th> <td>   0.081</td>\n",
       "</tr>\n",
       "<tr>\n",
       "  <th>Method:</th>             <td>Least Squares</td>  <th>  F-statistic:       </th> <td>   1.967</td>\n",
       "</tr>\n",
       "<tr>\n",
       "  <th>Date:</th>             <td>Wed, 23 Mar 2022</td> <th>  Prob (F-statistic):</th>  <td> 0.191</td> \n",
       "</tr>\n",
       "<tr>\n",
       "  <th>Time:</th>                 <td>21:12:10</td>     <th>  Log-Likelihood:    </th> <td> -42.919</td>\n",
       "</tr>\n",
       "<tr>\n",
       "  <th>No. Observations:</th>      <td>    12</td>      <th>  AIC:               </th> <td>   89.84</td>\n",
       "</tr>\n",
       "<tr>\n",
       "  <th>Df Residuals:</th>          <td>    10</td>      <th>  BIC:               </th> <td>   90.81</td>\n",
       "</tr>\n",
       "<tr>\n",
       "  <th>Df Model:</th>              <td>     1</td>      <th>                     </th>     <td> </td>   \n",
       "</tr>\n",
       "<tr>\n",
       "  <th>Covariance Type:</th>      <td>nonrobust</td>    <th>                     </th>     <td> </td>   \n",
       "</tr>\n",
       "</table>\n",
       "<table class=\"simpletable\">\n",
       "<tr>\n",
       "    <td></td>       <th>coef</th>     <th>std err</th>      <th>t</th>      <th>P>|t|</th>  <th>[0.025</th>    <th>0.975]</th>  \n",
       "</tr>\n",
       "<tr>\n",
       "  <th>const</th> <td>    8.0989</td> <td>    8.016</td> <td>    1.010</td> <td> 0.336</td> <td>   -9.763</td> <td>   25.961</td>\n",
       "</tr>\n",
       "<tr>\n",
       "  <th>x1</th>    <td>    0.7548</td> <td>    0.538</td> <td>    1.402</td> <td> 0.191</td> <td>   -0.444</td> <td>    1.954</td>\n",
       "</tr>\n",
       "</table>\n",
       "<table class=\"simpletable\">\n",
       "<tr>\n",
       "  <th>Omnibus:</th>       <td> 2.717</td> <th>  Durbin-Watson:     </th> <td>   0.961</td>\n",
       "</tr>\n",
       "<tr>\n",
       "  <th>Prob(Omnibus):</th> <td> 0.257</td> <th>  Jarque-Bera (JB):  </th> <td>   1.035</td>\n",
       "</tr>\n",
       "<tr>\n",
       "  <th>Skew:</th>          <td>-0.165</td> <th>  Prob(JB):          </th> <td>   0.596</td>\n",
       "</tr>\n",
       "<tr>\n",
       "  <th>Kurtosis:</th>      <td> 1.599</td> <th>  Cond. No.          </th> <td>    43.8</td>\n",
       "</tr>\n",
       "</table><br/><br/>Notes:<br/>[1] Standard Errors assume that the covariance matrix of the errors is correctly specified."
      ],
      "text/plain": [
       "<class 'statsmodels.iolib.summary.Summary'>\n",
       "\"\"\"\n",
       "                            OLS Regression Results                            \n",
       "==============================================================================\n",
       "Dep. Variable:                      y   R-squared:                       0.164\n",
       "Model:                            OLS   Adj. R-squared:                  0.081\n",
       "Method:                 Least Squares   F-statistic:                     1.967\n",
       "Date:                Wed, 23 Mar 2022   Prob (F-statistic):              0.191\n",
       "Time:                        21:12:10   Log-Likelihood:                -42.919\n",
       "No. Observations:                  12   AIC:                             89.84\n",
       "Df Residuals:                      10   BIC:                             90.81\n",
       "Df Model:                           1                                         \n",
       "Covariance Type:            nonrobust                                         \n",
       "==============================================================================\n",
       "                 coef    std err          t      P>|t|      [0.025      0.975]\n",
       "------------------------------------------------------------------------------\n",
       "const          8.0989      8.016      1.010      0.336      -9.763      25.961\n",
       "x1             0.7548      0.538      1.402      0.191      -0.444       1.954\n",
       "==============================================================================\n",
       "Omnibus:                        2.717   Durbin-Watson:                   0.961\n",
       "Prob(Omnibus):                  0.257   Jarque-Bera (JB):                1.035\n",
       "Skew:                          -0.165   Prob(JB):                        0.596\n",
       "Kurtosis:                       1.599   Cond. No.                         43.8\n",
       "==============================================================================\n",
       "\n",
       "Notes:\n",
       "[1] Standard Errors assume that the covariance matrix of the errors is correctly specified.\n",
       "\"\"\""
      ]
     },
     "execution_count": 40,
     "metadata": {},
     "output_type": "execute_result"
    }
   ],
   "source": [
    "resultado_bsk = sm.OLS(pontos, minutos_constante).fit()\n",
    "resultado_bsk.summary()"
   ]
  },
  {
   "cell_type": "code",
   "execution_count": 42,
   "id": "cdabcf82",
   "metadata": {},
   "outputs": [
    {
     "name": "stdout",
     "output_type": "stream",
     "text": [
      "O resultado da minha regressão é:  8.1 + 0.75 X, onde X é o tempo gasto\n"
     ]
    }
   ],
   "source": [
    "constante, peso = resultado_bsk.params\n",
    "print(\"O resultado da minha regressão é: \", round(constante,2),\"+\", round(peso,2),\"X, onde X é o tempo gasto\")"
   ]
  },
  {
   "cell_type": "code",
   "execution_count": 44,
   "id": "13eaed61",
   "metadata": {},
   "outputs": [],
   "source": [
    "#exercicio 2\n",
    "media= np.array([11.7, 12.5, 13, 12, 12.3, 12.7, 13.1, 13])\n",
    "distancia = np.array([65, 72, 69, 65, 78, 66, 70, 75])\n",
    "semaforos = np.array([5,1,0, 2, 3, 1, 0, 0])"
   ]
  },
  {
   "cell_type": "code",
   "execution_count": 45,
   "id": "d83c352a",
   "metadata": {},
   "outputs": [],
   "source": [
    "explicativas = np.column_stack((distancia, semaforos))\n",
    "explicativas_constante = sm.add_constant(explicativas)"
   ]
  },
  {
   "cell_type": "code",
   "execution_count": 47,
   "id": "017a423d",
   "metadata": {},
   "outputs": [],
   "source": [
    "resultado_ex = sm.OLS(media, explicativas_constante).fit()"
   ]
  },
  {
   "cell_type": "code",
   "execution_count": 48,
   "id": "aad688fc",
   "metadata": {},
   "outputs": [
    {
     "name": "stderr",
     "output_type": "stream",
     "text": [
      "C:\\ProgramData\\Anaconda3\\lib\\site-packages\\scipy\\stats\\stats.py:1541: UserWarning: kurtosistest only valid for n>=20 ... continuing anyway, n=8\n",
      "  warnings.warn(\"kurtosistest only valid for n>=20 ... continuing \"\n"
     ]
    },
    {
     "data": {
      "text/html": [
       "<table class=\"simpletable\">\n",
       "<caption>OLS Regression Results</caption>\n",
       "<tr>\n",
       "  <th>Dep. Variable:</th>            <td>y</td>        <th>  R-squared:         </th> <td>   0.881</td>\n",
       "</tr>\n",
       "<tr>\n",
       "  <th>Model:</th>                   <td>OLS</td>       <th>  Adj. R-squared:    </th> <td>   0.833</td>\n",
       "</tr>\n",
       "<tr>\n",
       "  <th>Method:</th>             <td>Least Squares</td>  <th>  F-statistic:       </th> <td>   18.42</td>\n",
       "</tr>\n",
       "<tr>\n",
       "  <th>Date:</th>             <td>Wed, 23 Mar 2022</td> <th>  Prob (F-statistic):</th>  <td>0.00494</td>\n",
       "</tr>\n",
       "<tr>\n",
       "  <th>Time:</th>                 <td>21:21:11</td>     <th>  Log-Likelihood:    </th> <td>  3.0719</td>\n",
       "</tr>\n",
       "<tr>\n",
       "  <th>No. Observations:</th>      <td>     8</td>      <th>  AIC:               </th> <td> -0.1438</td>\n",
       "</tr>\n",
       "<tr>\n",
       "  <th>Df Residuals:</th>          <td>     5</td>      <th>  BIC:               </th> <td> 0.09454</td>\n",
       "</tr>\n",
       "<tr>\n",
       "  <th>Df Model:</th>              <td>     2</td>      <th>                     </th>     <td> </td>   \n",
       "</tr>\n",
       "<tr>\n",
       "  <th>Covariance Type:</th>      <td>nonrobust</td>    <th>                     </th>     <td> </td>   \n",
       "</tr>\n",
       "</table>\n",
       "<table class=\"simpletable\">\n",
       "<tr>\n",
       "    <td></td>       <th>coef</th>     <th>std err</th>      <th>t</th>      <th>P>|t|</th>  <th>[0.025</th>    <th>0.975]</th>  \n",
       "</tr>\n",
       "<tr>\n",
       "  <th>const</th> <td>   11.7063</td> <td>    1.202</td> <td>    9.743</td> <td> 0.000</td> <td>    8.618</td> <td>   14.795</td>\n",
       "</tr>\n",
       "<tr>\n",
       "  <th>x1</th>    <td>    0.0174</td> <td>    0.017</td> <td>    1.027</td> <td> 0.351</td> <td>   -0.026</td> <td>    0.061</td>\n",
       "</tr>\n",
       "<tr>\n",
       "  <th>x2</th>    <td>   -0.2557</td> <td>    0.046</td> <td>   -5.612</td> <td> 0.002</td> <td>   -0.373</td> <td>   -0.139</td>\n",
       "</tr>\n",
       "</table>\n",
       "<table class=\"simpletable\">\n",
       "<tr>\n",
       "  <th>Omnibus:</th>       <td> 2.140</td> <th>  Durbin-Watson:     </th> <td>   2.489</td>\n",
       "</tr>\n",
       "<tr>\n",
       "  <th>Prob(Omnibus):</th> <td> 0.343</td> <th>  Jarque-Bera (JB):  </th> <td>   1.116</td>\n",
       "</tr>\n",
       "<tr>\n",
       "  <th>Skew:</th>          <td>-0.863</td> <th>  Prob(JB):          </th> <td>   0.572</td>\n",
       "</tr>\n",
       "<tr>\n",
       "  <th>Kurtosis:</th>      <td> 2.394</td> <th>  Cond. No.          </th> <td>1.14e+03</td>\n",
       "</tr>\n",
       "</table><br/><br/>Notes:<br/>[1] Standard Errors assume that the covariance matrix of the errors is correctly specified.<br/>[2] The condition number is large, 1.14e+03. This might indicate that there are<br/>strong multicollinearity or other numerical problems."
      ],
      "text/plain": [
       "<class 'statsmodels.iolib.summary.Summary'>\n",
       "\"\"\"\n",
       "                            OLS Regression Results                            \n",
       "==============================================================================\n",
       "Dep. Variable:                      y   R-squared:                       0.881\n",
       "Model:                            OLS   Adj. R-squared:                  0.833\n",
       "Method:                 Least Squares   F-statistic:                     18.42\n",
       "Date:                Wed, 23 Mar 2022   Prob (F-statistic):            0.00494\n",
       "Time:                        21:21:11   Log-Likelihood:                 3.0719\n",
       "No. Observations:                   8   AIC:                           -0.1438\n",
       "Df Residuals:                       5   BIC:                           0.09454\n",
       "Df Model:                           2                                         \n",
       "Covariance Type:            nonrobust                                         \n",
       "==============================================================================\n",
       "                 coef    std err          t      P>|t|      [0.025      0.975]\n",
       "------------------------------------------------------------------------------\n",
       "const         11.7063      1.202      9.743      0.000       8.618      14.795\n",
       "x1             0.0174      0.017      1.027      0.351      -0.026       0.061\n",
       "x2            -0.2557      0.046     -5.612      0.002      -0.373      -0.139\n",
       "==============================================================================\n",
       "Omnibus:                        2.140   Durbin-Watson:                   2.489\n",
       "Prob(Omnibus):                  0.343   Jarque-Bera (JB):                1.116\n",
       "Skew:                          -0.863   Prob(JB):                        0.572\n",
       "Kurtosis:                       2.394   Cond. No.                     1.14e+03\n",
       "==============================================================================\n",
       "\n",
       "Notes:\n",
       "[1] Standard Errors assume that the covariance matrix of the errors is correctly specified.\n",
       "[2] The condition number is large, 1.14e+03. This might indicate that there are\n",
       "strong multicollinearity or other numerical problems.\n",
       "\"\"\""
      ]
     },
     "execution_count": 48,
     "metadata": {},
     "output_type": "execute_result"
    }
   ],
   "source": [
    "resultado_ex.summary()"
   ]
  },
  {
   "cell_type": "code",
   "execution_count": null,
   "id": "b9756437",
   "metadata": {},
   "outputs": [],
   "source": []
  }
 ],
 "metadata": {
  "kernelspec": {
   "display_name": "Python 3 (ipykernel)",
   "language": "python",
   "name": "python3"
  },
  "language_info": {
   "codemirror_mode": {
    "name": "ipython",
    "version": 3
   },
   "file_extension": ".py",
   "mimetype": "text/x-python",
   "name": "python",
   "nbconvert_exporter": "python",
   "pygments_lexer": "ipython3",
   "version": "3.9.7"
  }
 },
 "nbformat": 4,
 "nbformat_minor": 5
}
